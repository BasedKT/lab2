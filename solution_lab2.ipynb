{
 "cells": [
  {
   "cell_type": "code",
   "execution_count": null,
   "metadata": {
    "collapsed": true
   },
   "outputs": [],
   "source": [
    "import random\n",
    "import numpy as np\n",
    "\n",
    "\n",
    "class Function:\n",
    "    def __init__(self, value, delt=0.001):\n",
    "        self.value = value\n",
    "\n",
    "        def grad(x):\n",
    "            array = []\n",
    "            for i in range(len(x)):\n",
    "                x[i] += delt\n",
    "                first_val = value(x)\n",
    "                x[i] -= 2 * delt\n",
    "                second_val = value(x)\n",
    "                x[i] += delt\n",
    "                array.append((first_val - second_val) / (2 * delt))\n",
    "            return np.array(array)\n",
    "\n",
    "        self.grad = grad\n",
    "\n",
    "\n",
    "def grad_desc(func, lr, x, eps, need_points=True,\n",
    "              max_num_of_step=1000):\n",
    "    num_of_steps = 0\n",
    "    points = [x]\n",
    "    while True:\n",
    "        prev_x = x\n",
    "        grad = func.grad(x)\n",
    "        x = x - lr(Function(lambda a: func.value(x - a * grad))) * grad\n",
    "        if need_points:\n",
    "            points.append(x)\n",
    "        else:\n",
    "            points = [x]\n",
    "        num_of_steps += 1\n",
    "        if abs(func.value(x) - func.value(prev_x)) < eps or num_of_steps >= max_num_of_step:\n",
    "            break\n",
    "\n",
    "    if need_points: return np.array(points)\n",
    "    return (points[0], num_of_steps)\n",
    "\n",
    "\n",
    "def right_border_calc(func):\n",
    "    right_start = 0.0000001\n",
    "    zero = func.value(0)\n",
    "    while zero >= func.value(right_start):\n",
    "        right_start *= 2\n",
    "\n",
    "    return right_start\n",
    "\n",
    "\n",
    "def dichotomy(func, a_1, a_2, eps, delt):\n",
    "    cond = lambda a, b: abs(a - b) >= eps\n",
    "    while cond(a_1, a_2):\n",
    "        new_a_1 = (a_1 + a_2) / 2 - delt\n",
    "        new_a_2 = (a_1 + a_2) / 2 + delt\n",
    "        fv1 = func.value(new_a_1)\n",
    "        fv2 = func.value(new_a_2)\n",
    "        if fv2 > fv1:\n",
    "            a_2 = new_a_2\n",
    "        elif fv2 < fv1:\n",
    "            a_1 = new_a_1\n",
    "        else:\n",
    "            a_1 = new_a_1\n",
    "            a_2 = new_a_2\n",
    "    return (a_1 + a_2) / 2"
   ]
  },
  {
   "cell_type": "code",
   "execution_count": null,
   "outputs": [],
   "source": [
    "import matplotlib.pyplot as plt\n",
    "\n",
    "def lr_wrapper(eps, delt):\n",
    "    return lambda func: dichotomy(func, 0, right_border_calc(func), eps, delt)"
   ],
   "metadata": {
    "collapsed": false
   }
  },
  {
   "cell_type": "code",
   "execution_count": null,
   "outputs": [],
   "source": [],
   "metadata": {
    "collapsed": false
   }
  }
 ],
 "metadata": {
  "kernelspec": {
   "display_name": "Python 3",
   "language": "python",
   "name": "python3"
  },
  "language_info": {
   "codemirror_mode": {
    "name": "ipython",
    "version": 2
   },
   "file_extension": ".py",
   "mimetype": "text/x-python",
   "name": "python",
   "nbconvert_exporter": "python",
   "pygments_lexer": "ipython2",
   "version": "2.7.6"
  }
 },
 "nbformat": 4,
 "nbformat_minor": 0
}
