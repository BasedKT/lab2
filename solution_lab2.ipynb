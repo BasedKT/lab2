{
 "cells": [
  {
   "cell_type": "code",
   "execution_count": null,
   "outputs": [],
   "source": [
    "import random\n",
    "from functools import cache\n",
    "import numpy as np\n",
    "\n",
    "\n",
    "class LinearRegression:\n",
    "    def __init__(self, T, W, X, Y):\n",
    "        self.T = T\n",
    "        self.W = W\n",
    "        self.X = X\n",
    "        self.Y = Y\n",
    "\n",
    "    @cache\n",
    "    def apply_T(self, index):\n",
    "        return np.array([t(self.X[index]) for t in self.T])\n",
    "\n",
    "    def loss_function_value(self):\n",
    "        val = sum([(np.dot(self.apply_T(i), self.W) - self.Y[i]) ** 2 for i in range(len(self.X))])\n",
    "        return val\n",
    "\n",
    "    def grad_by_components(self, index_components):\n",
    "        batch = np.zeros(len(self.W))\n",
    "        for i in index_components:\n",
    "            batch += 2 * (np.dot(self.apply_T(i), self.W) - self.Y[i]) * self.apply_T(i)\n",
    "\n",
    "        return batch\n",
    "\n",
    "\n",
    "def sgd(lin_reg, lr, eps, batch=1, max_num_of_step=10000):\n",
    "    i = 0\n",
    "    prev_value = lin_reg.loss_function_value()\n",
    "    while True:\n",
    "        components = [(i * batch + j) % len(lin_reg.X) for j in range(batch)]\n",
    "        grad_with_batch = lin_reg.grad_by_components(components)\n",
    "        lin_reg.W -= lr * grad_with_batch\n",
    "        if abs(lin_reg.loss_function_value() - prev_value) < eps or i >= max_num_of_step:\n",
    "            break\n",
    "        prev_value = lin_reg.loss_function_value()\n",
    "        i += 1\n"
   ],
   "metadata": {
    "collapsed": false
   }
  },
  {
   "cell_type": "code",
   "execution_count": null,
   "outputs": [],
   "source": [
    "current_t = np.array([lambda x: x, lambda x: 1.])\n",
    "current_w = np.array([0., 0.])\n",
    "current_x = np.array([1., 2., 9., -2., -10.])\n",
    "current_y = np.array([1., 2., 9., -2., 5[lin_reg.X[0] * lin_reg.W[0] + lin_reg.W[1], lin_reg.X[1] * lin_reg.W[0] + lin_reg.W[1]].])\n",
    "\n",
    "lin_reg = LinearRegression(\n",
    "    current_t, current_w, current_x, current_y\n",
    ")\n",
    "\n",
    "sgd(lin_reg, 0.01, 0.001)"
   ],
   "metadata": {
    "collapsed": false,
    "pycharm": {
     "is_executing": true
    }
   }
  },
  {
   "cell_type": "code",
   "execution_count": null,
   "outputs": [],
   "source": [
    "import matplotlib.pyplot as plt\n",
    "\n",
    "\n",
    "def visualise_points():\n",
    "    x = np.linspace(-10, 10, 1000)\n",
    "    y = lin_reg.W[0] * x + lin_reg.W[1]\n",
    "    plt.plot(x, y, '-r')\n",
    "    plt.plot(lin_reg.X, lin_reg.Y, 'og', linestyle='None')\n",
    "    plt.xlabel(\"x\")\n",
    "    plt.show()\n",
    "\n",
    "\n",
    "print(lin_reg.W)\n",
    "visualise_points()\n"
   ],
   "metadata": {
    "collapsed": false,
    "pycharm": {
     "is_executing": true
    }
   }
  }
 ],
 "metadata": {
  "kernelspec": {
   "display_name": "Python 3",
   "language": "python",
   "name": "python3"
  },
  "language_info": {
   "codemirror_mode": {
    "name": "ipython",
    "version": 2
   },
   "file_extension": ".py",
   "mimetype": "text/x-python",
   "name": "python",
   "nbconvert_exporter": "python",
   "pygments_lexer": "ipython2",
   "version": "2.7.6"
  }
 },
 "nbformat": 4,
 "nbformat_minor": 0
}
